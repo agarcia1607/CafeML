{
 "cells": [
  {
   "cell_type": "markdown",
   "metadata": {},
   "source": [
    "**Introducción**\n",
    "\n",
    "En este estudio, utilizaremos datos proporcionados por la empresa Campesino Coffee para abordar un problema de regresión relacionado con la puntuación de calidad de una taza de café. La evaluación de la calidad del café es un aspecto crucial para las tostadoras, ya que permite identificar los procesos y los insumos que tienen un impacto significativo en el producto final. Al entender mejor qué factores contribuyen a la calidad, las tostadoras pueden optimizar sus operaciones, mejorando tanto la eficiencia como el sabor del café, lo cual se traduce en beneficios económicos y satisfacción del cliente.\n",
    "\n",
    "El objetivo de este proyecto es desarrollar un modelo de aprendizaje automático que, a partir de un conjunto de datos de una tostadora de café, sea capaz de predecir la calidad del café tostado. Esto permitirá a la empresa Campesino Coffee tener una base para no solo estandarizar y mejorar sus procesos de producción, sino también anticiparse a los cambios necesarios para mantener un producto de alta calidad. A través de este análisis, buscaremos identificar las variables más relevantes que influyen en la calidad del café, proporcionando así una herramienta valiosa para la toma de decisiones en la cadena de producción.\n"
   ]
  },
  {
   "cell_type": "markdown",
   "metadata": {},
   "source": [
    "**Entendiendo el modelo de negocio:**\n",
    "\n",
    "Las puntuaciones de una taza de café se utilizan para comunicar la calidad del mismo, principalmente entre compradores en verde y productores. Uno de los estándares en esta materia es SCA, por sus siglas en inglés, Specialty Coffee Association. La prueba en taza o análisis sensitivo del café fue introducida para diferenciar cafés comerciales de sus pares de especialidad.\n",
    "\n",
    "Para esto se consideran las siguientes 10 categorías:\n",
    "\n",
    "- Aroma/Fragancia  \n",
    "- Sabor  \n",
    "- Sabor residual  \n",
    "- Acidez  \n",
    "- Cuerpo  \n",
    "- Balance  \n",
    "- Puntuación general del catador  \n",
    "- Dulzura  \n",
    "- Taza limpia  \n",
    "- Uniformidad  \n",
    "\n",
    "Según esto, solo el café con una puntuación superior a 80 puntos, en una escala de 0 a 100, se considera café especial. Si éste supera los 85 puntos, se habla de un café excelente, y si está por encima de los 90, es un café exquisito o sobresaliente. Aquellos que estén por debajo de los 80 puntos son considerados cafés comerciales y son los que normalmente se quedan en el país para consumo interno.\n"
   ]
  },
  {
   "cell_type": "markdown",
   "metadata": {},
   "source": [
    "Ahora analicemos algunas de las columnas de nuestra tabla:\n",
    "\n",
    "**1. Peso en verde**:  \n",
    "Este término se refiere al peso del café antes de ser tostado, es decir, cuando los granos están aún en su estado crudo o \"verde\". El café verde es el grano sin tostar que ha sido secado y preparado después de la recolección, pero no ha pasado por el proceso de tostado. El peso en verde es crucial para calcular las mermas durante el tostado y determinar el rendimiento del proceso.\n",
    "\n",
    "**2. Merma**:  \n",
    "La merma en el contexto del café se refiere a la pérdida de peso que ocurre durante el proceso de tostado. Esta pérdida de peso es principalmente debido a la evaporación del agua contenida en los granos y a la eliminación de la cáscara plateada, una capa fina que recubre el grano de café. La merma se expresa generalmente como un porcentaje del peso inicial en verde.\n",
    "\n",
    "**3. Peso en tostado**:  \n",
    "Es el peso final del café después de haber pasado por el proceso de tostado. Este peso es menor que el peso en verde debido a la merma que ocurre durante el tostado. El peso en tostado es importante para calcular la eficiencia del proceso de tostado y para entender cómo afecta el perfil de sabor del café.\n",
    "\n",
    "**4. Perfil (Filtrado - Espresso)**:  \n",
    "En el contexto del café, \"perfil\" se refiere a las características de sabor y aroma del café tostado. Dependiendo del método de preparación, como filtrado (usualmente referido a métodos como pour-over o prensa francesa) o espresso, el perfil de sabor del café puede variar significativamente. Los perfiles de filtrado tienden a resaltar sabores más suaves y claros, mientras que los perfiles de espresso tienden a ser más concentrados y robustos.\n",
    "\n",
    "**5. Proceso (Tradicional - Natural - Honey)**:  \n",
    "Estos términos se refieren a los métodos de procesamiento del café después de la cosecha y antes del tostado, y cada método influye en el perfil de sabor del café:\n",
    "\n",
    "- **Tradicional** (también conocido como lavado): Este proceso implica la remoción completa de la pulpa del fruto del café antes de secar los granos. Este método tiende a producir un perfil de sabor limpio y brillante.\n",
    "- **Natural**: En este proceso, los granos de café se secan dentro de la fruta sin retirar la pulpa, lo que puede influir en un perfil de sabor más dulce y afrutado. El método natural es más arriesgado debido a la posibilidad de fermentación descontrolada.\n",
    "- **Honey**: Este proceso es un punto intermedio entre el lavado y el natural. Parte de la pulpa se deja en el grano durante el secado, lo que puede dar lugar a un perfil de sabor más complejo, con dulzura y acidez balanceadas.\n"
   ]
  },
  {
   "cell_type": "markdown",
   "metadata": {},
   "source": [
    "### Mallas\n",
    "\n",
    "**Mallas** se refieren al tamaño del grano de café, medido en una escala que corresponde a la abertura de las mallas de un tamiz utilizado para clasificar los granos de café. El proceso de clasificación por mallas ayuda a estandarizar los granos de café según su tamaño, lo cual es crucial para un tostado uniforme y una calidad consistente.\n",
    "\n",
    "- **Tamaño de malla**: Se mide en una escala numérica que representa el diámetro de la abertura de la malla en 1/64 de pulgada. Por ejemplo, una malla 18 tiene aberturas de 18/64 de pulgada. \n",
    "- **Clasificación**: Los granos de café se tamizan a través de diferentes tamaños de mallas, y aquellos que quedan sobre una malla particular se clasifican como de ese tamaño. Los granos más grandes suelen tener un número de malla más alto.\n",
    "- **Importancia**: La uniformidad en el tamaño del grano asegura un tostado más homogéneo, ya que los granos de diferentes tamaños pueden tostar a diferentes velocidades, afectando el perfil de sabor final.\n",
    "\n",
    "### %H (Porcentaje de Humedad)\n",
    "\n",
    "El **%H** se refiere al porcentaje de humedad contenido en los granos de café antes del tostado. El contenido de humedad es un factor crucial que afecta tanto la calidad del tostado como el almacenamiento del café verde.\n",
    "\n",
    "- **Contenido de humedad óptimo**: El contenido de humedad en los granos de café verde debe mantenerse en un rango ideal del 10% al 12%. Niveles de humedad más bajos pueden causar un tostado irregular y una pérdida de calidad en el sabor, mientras que niveles más altos de humedad pueden llevar al desarrollo de moho y a una mayor incidencia de defectos en el café.\n",
    "- **Medición**: El porcentaje de humedad se mide utilizando un medidor de humedad, que determina la cantidad de agua en los granos. Es esencial controlar el contenido de humedad desde la cosecha hasta el almacenamiento para mantener la calidad del café.\n",
    "- **Impacto en el tostado**: Un contenido de humedad adecuado facilita un tostado uniforme y consistente. Si los granos tienen demasiada humedad, pueden requerir más tiempo para secarse antes de comenzar a tostar, lo que afecta el desarrollo del sabor.\n"
   ]
  },
  {
   "cell_type": "markdown",
   "metadata": {},
   "source": [
    "### Definición del Problema\n",
    "\n",
    "Nuestro objetivo es predecir la puntuación de calidad de nuestro café utilizando un modelo de aprendizaje automático. Para esto, utilizaremos las siguientes variables como predictores (X):\n",
    "\n",
    "- **Peso en verde**: El peso del café antes del tostado. Este es un dato numerico\n",
    "- **Merma**: La pérdida de peso que ocurre durante el proceso de tostado. Dato numerico\n",
    "- **Perfil**: Características de sabor y aroma del café, influenciadas por el método de preparación (filtrado o espresso).Dato tipo texto.\n",
    "- **Proceso**: Método de procesamiento del café (tradicional, natural, honey). Dato tipo texto.\n",
    "- **Malla**: Tamaño del grano de café, clasificado por tamices de diferentes tamaños. Dato tipo numerico.\n",
    "- **Porcentaje de Humedad**: Cantidad de agua contenida en los granos de café antes del tostado. Dato tipo numerico.\n",
    "- **Notas de cata**: Evaluaciones sensoriales del café, incluyendo aroma, sabor, acidez, cuerpo, y otros atributos.Dato tipo texto\n",
    "- **Tiempo de tueste**: El tiempo durante el tostado. Dato tipo numerico\n",
    "\n",
    "La variable objetivo (Y) es la **puntuación de calidad del café**, que se mide en una escala generalmente del 0 al 100, según los estándares de la Specialty Coffee Association (SCA).\n",
    "\n",
    "### Consideraciones sobre las Variables Predictoras\n",
    "\n",
    "Considero que estas variables  (X) son suficientes para predecir la puntuación de calidad del café (Y),Considerando que:\n",
    "\n",
    "1. **Relevancia de las Variables**: Las variables seleccionadas son directamente relevantes para la calidad del café, ya que afectan tanto el proceso de tostado como las características finales del producto. \n",
    "2. **Diversidad de Factores**: Las variables cubren una amplia gama de factores que influyen en la calidad del café, desde características físicas del grano (peso en verde, malla) hasta aspectos del proceso (merma, proceso) y la evaluación sensorial (notas de cata).\n",
    "3. **Potencial de Predicción**: Estas variables ofrecen un conjunto de datos suficientemente robusto para capturar la variabilidad en la calidad del café, permitiendo al modelo de aprendizaje automático aprender patrones significativos que afectan la puntuación."
   ]
  },
  {
   "cell_type": "markdown",
   "metadata": {},
   "source": [
    "Empecemos el preprocesaminento en datos usando pandas:"
   ]
  },
  {
   "cell_type": "code",
   "execution_count": 24,
   "metadata": {},
   "outputs": [
    {
     "name": "stdout",
     "output_type": "stream",
     "text": [
      "Requirement already satisfied: openpyxl in c:\\users\\agarc\\appdata\\local\\programs\\python\\python311\\lib\\site-packages (3.1.5)\n",
      "Requirement already satisfied: et-xmlfile in c:\\users\\agarc\\appdata\\local\\programs\\python\\python311\\lib\\site-packages (from openpyxl) (1.1.0)\n"
     ]
    },
    {
     "name": "stderr",
     "output_type": "stream",
     "text": [
      "\n",
      "[notice] A new release of pip is available: 24.0 -> 24.2\n",
      "[notice] To update, run: python.exe -m pip install --upgrade pip\n"
     ]
    }
   ],
   "source": [
    "!pip install openpyxl\n"
   ]
  },
  {
   "cell_type": "code",
   "execution_count": 25,
   "metadata": {},
   "outputs": [
    {
     "ename": "FileNotFoundError",
     "evalue": "[Errno 2] No such file or directory: 'Formato_de_Control_de_Calidad_Café_de_Trillado.xlsx'",
     "output_type": "error",
     "traceback": [
      "\u001b[1;31m---------------------------------------------------------------------------\u001b[0m",
      "\u001b[1;31mFileNotFoundError\u001b[0m                         Traceback (most recent call last)",
      "Cell \u001b[1;32mIn[25], line 8\u001b[0m\n\u001b[0;32m      5\u001b[0m tostion_df \u001b[38;5;241m=\u001b[39m pd\u001b[38;5;241m.\u001b[39mread_excel(\u001b[38;5;124m\"\u001b[39m\u001b[38;5;124mC:\u001b[39m\u001b[38;5;130;01m\\\\\u001b[39;00m\u001b[38;5;124mUsers\u001b[39m\u001b[38;5;130;01m\\\\\u001b[39;00m\u001b[38;5;124magarc\u001b[39m\u001b[38;5;130;01m\\\\\u001b[39;00m\u001b[38;5;124mDownloads\u001b[39m\u001b[38;5;130;01m\\\\\u001b[39;00m\u001b[38;5;124mCafe_ML\u001b[39m\u001b[38;5;130;01m\\\\\u001b[39;00m\u001b[38;5;124mFormato_de _Tostión.xlsx\u001b[39m\u001b[38;5;124m\"\u001b[39m, sheet_name\u001b[38;5;241m=\u001b[39m\u001b[38;5;124m'\u001b[39m\u001b[38;5;124mTOSTIÓN JERICÓ L\u001b[39m\u001b[38;5;124m'\u001b[39m)\n\u001b[0;32m      7\u001b[0m \u001b[38;5;66;03m# Limpiar los datos (si es necesario)\u001b[39;00m\n\u001b[1;32m----> 8\u001b[0m control_calidad_cleaned \u001b[38;5;241m=\u001b[39m \u001b[43mpd\u001b[49m\u001b[38;5;241;43m.\u001b[39;49m\u001b[43mread_excel\u001b[49m\u001b[43m(\u001b[49m\u001b[38;5;124;43m\"\u001b[39;49m\u001b[38;5;124;43mFormato_de_Control_de_Calidad_Café_de_Trillado.xlsx\u001b[39;49m\u001b[38;5;124;43m\"\u001b[39;49m\u001b[43m,\u001b[49m\u001b[43m \u001b[49m\u001b[43msheet_name\u001b[49m\u001b[38;5;241;43m=\u001b[39;49m\u001b[38;5;124;43m'\u001b[39;49m\u001b[38;5;124;43mCONTROL CALIDAD CAFE TRILLADO J\u001b[39;49m\u001b[38;5;124;43m'\u001b[39;49m\u001b[43m,\u001b[49m\u001b[43m \u001b[49m\u001b[43mskiprows\u001b[49m\u001b[38;5;241;43m=\u001b[39;49m\u001b[38;5;241;43m4\u001b[39;49m\u001b[43m)\u001b[49m\n\u001b[0;32m      9\u001b[0m tostion_cleaned \u001b[38;5;241m=\u001b[39m pd\u001b[38;5;241m.\u001b[39mread_excel(\u001b[38;5;124m\"\u001b[39m\u001b[38;5;124mFormato_de_Tostión.xlsx\u001b[39m\u001b[38;5;124m\"\u001b[39m, sheet_name\u001b[38;5;241m=\u001b[39m\u001b[38;5;124m'\u001b[39m\u001b[38;5;124mTOSTIÓN JERICÓ L\u001b[39m\u001b[38;5;124m'\u001b[39m, skiprows\u001b[38;5;241m=\u001b[39m\u001b[38;5;241m4\u001b[39m)\n\u001b[0;32m     11\u001b[0m \u001b[38;5;66;03m# Renombrar las columnas para facilitar la combinación\u001b[39;00m\n",
      "File \u001b[1;32mc:\\Users\\agarc\\AppData\\Local\\Programs\\Python\\Python311\\Lib\\site-packages\\pandas\\io\\excel\\_base.py:495\u001b[0m, in \u001b[0;36mread_excel\u001b[1;34m(io, sheet_name, header, names, index_col, usecols, dtype, engine, converters, true_values, false_values, skiprows, nrows, na_values, keep_default_na, na_filter, verbose, parse_dates, date_parser, date_format, thousands, decimal, comment, skipfooter, storage_options, dtype_backend, engine_kwargs)\u001b[0m\n\u001b[0;32m    493\u001b[0m \u001b[38;5;28;01mif\u001b[39;00m \u001b[38;5;129;01mnot\u001b[39;00m \u001b[38;5;28misinstance\u001b[39m(io, ExcelFile):\n\u001b[0;32m    494\u001b[0m     should_close \u001b[38;5;241m=\u001b[39m \u001b[38;5;28;01mTrue\u001b[39;00m\n\u001b[1;32m--> 495\u001b[0m     io \u001b[38;5;241m=\u001b[39m \u001b[43mExcelFile\u001b[49m\u001b[43m(\u001b[49m\n\u001b[0;32m    496\u001b[0m \u001b[43m        \u001b[49m\u001b[43mio\u001b[49m\u001b[43m,\u001b[49m\n\u001b[0;32m    497\u001b[0m \u001b[43m        \u001b[49m\u001b[43mstorage_options\u001b[49m\u001b[38;5;241;43m=\u001b[39;49m\u001b[43mstorage_options\u001b[49m\u001b[43m,\u001b[49m\n\u001b[0;32m    498\u001b[0m \u001b[43m        \u001b[49m\u001b[43mengine\u001b[49m\u001b[38;5;241;43m=\u001b[39;49m\u001b[43mengine\u001b[49m\u001b[43m,\u001b[49m\n\u001b[0;32m    499\u001b[0m \u001b[43m        \u001b[49m\u001b[43mengine_kwargs\u001b[49m\u001b[38;5;241;43m=\u001b[39;49m\u001b[43mengine_kwargs\u001b[49m\u001b[43m,\u001b[49m\n\u001b[0;32m    500\u001b[0m \u001b[43m    \u001b[49m\u001b[43m)\u001b[49m\n\u001b[0;32m    501\u001b[0m \u001b[38;5;28;01melif\u001b[39;00m engine \u001b[38;5;129;01mand\u001b[39;00m engine \u001b[38;5;241m!=\u001b[39m io\u001b[38;5;241m.\u001b[39mengine:\n\u001b[0;32m    502\u001b[0m     \u001b[38;5;28;01mraise\u001b[39;00m \u001b[38;5;167;01mValueError\u001b[39;00m(\n\u001b[0;32m    503\u001b[0m         \u001b[38;5;124m\"\u001b[39m\u001b[38;5;124mEngine should not be specified when passing \u001b[39m\u001b[38;5;124m\"\u001b[39m\n\u001b[0;32m    504\u001b[0m         \u001b[38;5;124m\"\u001b[39m\u001b[38;5;124man ExcelFile - ExcelFile already has the engine set\u001b[39m\u001b[38;5;124m\"\u001b[39m\n\u001b[0;32m    505\u001b[0m     )\n",
      "File \u001b[1;32mc:\\Users\\agarc\\AppData\\Local\\Programs\\Python\\Python311\\Lib\\site-packages\\pandas\\io\\excel\\_base.py:1550\u001b[0m, in \u001b[0;36mExcelFile.__init__\u001b[1;34m(self, path_or_buffer, engine, storage_options, engine_kwargs)\u001b[0m\n\u001b[0;32m   1548\u001b[0m     ext \u001b[38;5;241m=\u001b[39m \u001b[38;5;124m\"\u001b[39m\u001b[38;5;124mxls\u001b[39m\u001b[38;5;124m\"\u001b[39m\n\u001b[0;32m   1549\u001b[0m \u001b[38;5;28;01melse\u001b[39;00m:\n\u001b[1;32m-> 1550\u001b[0m     ext \u001b[38;5;241m=\u001b[39m \u001b[43minspect_excel_format\u001b[49m\u001b[43m(\u001b[49m\n\u001b[0;32m   1551\u001b[0m \u001b[43m        \u001b[49m\u001b[43mcontent_or_path\u001b[49m\u001b[38;5;241;43m=\u001b[39;49m\u001b[43mpath_or_buffer\u001b[49m\u001b[43m,\u001b[49m\u001b[43m \u001b[49m\u001b[43mstorage_options\u001b[49m\u001b[38;5;241;43m=\u001b[39;49m\u001b[43mstorage_options\u001b[49m\n\u001b[0;32m   1552\u001b[0m \u001b[43m    \u001b[49m\u001b[43m)\u001b[49m\n\u001b[0;32m   1553\u001b[0m     \u001b[38;5;28;01mif\u001b[39;00m ext \u001b[38;5;129;01mis\u001b[39;00m \u001b[38;5;28;01mNone\u001b[39;00m:\n\u001b[0;32m   1554\u001b[0m         \u001b[38;5;28;01mraise\u001b[39;00m \u001b[38;5;167;01mValueError\u001b[39;00m(\n\u001b[0;32m   1555\u001b[0m             \u001b[38;5;124m\"\u001b[39m\u001b[38;5;124mExcel file format cannot be determined, you must specify \u001b[39m\u001b[38;5;124m\"\u001b[39m\n\u001b[0;32m   1556\u001b[0m             \u001b[38;5;124m\"\u001b[39m\u001b[38;5;124man engine manually.\u001b[39m\u001b[38;5;124m\"\u001b[39m\n\u001b[0;32m   1557\u001b[0m         )\n",
      "File \u001b[1;32mc:\\Users\\agarc\\AppData\\Local\\Programs\\Python\\Python311\\Lib\\site-packages\\pandas\\io\\excel\\_base.py:1402\u001b[0m, in \u001b[0;36minspect_excel_format\u001b[1;34m(content_or_path, storage_options)\u001b[0m\n\u001b[0;32m   1399\u001b[0m \u001b[38;5;28;01mif\u001b[39;00m \u001b[38;5;28misinstance\u001b[39m(content_or_path, \u001b[38;5;28mbytes\u001b[39m):\n\u001b[0;32m   1400\u001b[0m     content_or_path \u001b[38;5;241m=\u001b[39m BytesIO(content_or_path)\n\u001b[1;32m-> 1402\u001b[0m \u001b[38;5;28;01mwith\u001b[39;00m \u001b[43mget_handle\u001b[49m\u001b[43m(\u001b[49m\n\u001b[0;32m   1403\u001b[0m \u001b[43m    \u001b[49m\u001b[43mcontent_or_path\u001b[49m\u001b[43m,\u001b[49m\u001b[43m \u001b[49m\u001b[38;5;124;43m\"\u001b[39;49m\u001b[38;5;124;43mrb\u001b[39;49m\u001b[38;5;124;43m\"\u001b[39;49m\u001b[43m,\u001b[49m\u001b[43m \u001b[49m\u001b[43mstorage_options\u001b[49m\u001b[38;5;241;43m=\u001b[39;49m\u001b[43mstorage_options\u001b[49m\u001b[43m,\u001b[49m\u001b[43m \u001b[49m\u001b[43mis_text\u001b[49m\u001b[38;5;241;43m=\u001b[39;49m\u001b[38;5;28;43;01mFalse\u001b[39;49;00m\n\u001b[0;32m   1404\u001b[0m \u001b[43m\u001b[49m\u001b[43m)\u001b[49m \u001b[38;5;28;01mas\u001b[39;00m handle:\n\u001b[0;32m   1405\u001b[0m     stream \u001b[38;5;241m=\u001b[39m handle\u001b[38;5;241m.\u001b[39mhandle\n\u001b[0;32m   1406\u001b[0m     stream\u001b[38;5;241m.\u001b[39mseek(\u001b[38;5;241m0\u001b[39m)\n",
      "File \u001b[1;32mc:\\Users\\agarc\\AppData\\Local\\Programs\\Python\\Python311\\Lib\\site-packages\\pandas\\io\\common.py:882\u001b[0m, in \u001b[0;36mget_handle\u001b[1;34m(path_or_buf, mode, encoding, compression, memory_map, is_text, errors, storage_options)\u001b[0m\n\u001b[0;32m    873\u001b[0m         handle \u001b[38;5;241m=\u001b[39m \u001b[38;5;28mopen\u001b[39m(\n\u001b[0;32m    874\u001b[0m             handle,\n\u001b[0;32m    875\u001b[0m             ioargs\u001b[38;5;241m.\u001b[39mmode,\n\u001b[1;32m   (...)\u001b[0m\n\u001b[0;32m    878\u001b[0m             newline\u001b[38;5;241m=\u001b[39m\u001b[38;5;124m\"\u001b[39m\u001b[38;5;124m\"\u001b[39m,\n\u001b[0;32m    879\u001b[0m         )\n\u001b[0;32m    880\u001b[0m     \u001b[38;5;28;01melse\u001b[39;00m:\n\u001b[0;32m    881\u001b[0m         \u001b[38;5;66;03m# Binary mode\u001b[39;00m\n\u001b[1;32m--> 882\u001b[0m         handle \u001b[38;5;241m=\u001b[39m \u001b[38;5;28mopen\u001b[39m(handle, ioargs\u001b[38;5;241m.\u001b[39mmode)\n\u001b[0;32m    883\u001b[0m     handles\u001b[38;5;241m.\u001b[39mappend(handle)\n\u001b[0;32m    885\u001b[0m \u001b[38;5;66;03m# Convert BytesIO or file objects passed with an encoding\u001b[39;00m\n",
      "\u001b[1;31mFileNotFoundError\u001b[0m: [Errno 2] No such file or directory: 'Formato_de_Control_de_Calidad_Café_de_Trillado.xlsx'"
     ]
    }
   ],
   "source": [
    "import pandas as pd\n",
    "\n",
    "# Cargar los datos de Excel utilizando rutas relativas\n",
    "control_calidad_df = pd.read_excel(\"C:\\\\Users\\\\agarc\\\\Downloads\\\\Cafe_ML\\\\Formato_de_Control_de_Calidad_Café_de_Trillado.xlsx\", sheet_name='CONTROL CALIDAD CAFE TRILLADO J')\n",
    "tostion_df = pd.read_excel(\"C:\\\\Users\\\\agarc\\\\Downloads\\\\Cafe_ML\\\\Formato_de _Tostión.xlsx\", sheet_name='TOSTIÓN JERICÓ L')\n",
    "\n",
    "# Limpiar los datos (si es necesario)\n",
    "control_calidad_cleaned = pd.read_excel(\"Formato_de_Control_de_Calidad_Café_de_Trillado.xlsx\", sheet_name='CONTROL CALIDAD CAFE TRILLADO J', skiprows=4)\n",
    "tostion_cleaned = pd.read_excel(\"Formato_de_Tostión.xlsx\", sheet_name='TOSTIÓN JERICÓ L', skiprows=4)\n",
    "\n",
    "# Renombrar las columnas para facilitar la combinación\n",
    "control_calidad_cleaned.columns = [\n",
    "    \"Fecha\", \"Lote\", \"Denominacion/Marca\", \"Cantidad\", \"%H\", \"Mallas\", \n",
    "    \"Verificacion_Fisica\", \"Notas_de_Catacion\", \"Puntaje\", \"Liberacion_Lote\", \n",
    "    \"Responsable\", \"Extra1\", \"Extra2\", \"Extra3\"\n",
    "]\n",
    "\n",
    "tostion_cleaned.columns = [\n",
    "    \"Fecha\", \"Lote\", \"Origen\", \"Variedad\", \"Proceso\", \"Beneficio\", \n",
    "    \"Peso_en_Verde\", \"Merma\", \"Peso_en_Tostado\", \"Perfil\", \n",
    "    \"Temp_Inicio_Final\", \"Tiempo_de_Tueste\", \"Observaciones\", \"Tostador\"\n",
    "]\n",
    "\n",
    "# Combinar las tablas utilizando la columna 'Lote' como clave\n",
    "merged_df = pd.merge(control_calidad_cleaned, tostion_cleaned, on='Lote')\n",
    "\n",
    "# Guardar la tabla combinada en un nuevo archivo Excel\n",
    "merged_df.to_excel('merged_coffee_data.xlsx', index=False)\n",
    "\n"
   ]
  },
  {
   "cell_type": "markdown",
   "metadata": {},
   "source": []
  }
 ],
 "metadata": {
  "kernelspec": {
   "display_name": "Python 3",
   "language": "python",
   "name": "python3"
  },
  "language_info": {
   "codemirror_mode": {
    "name": "ipython",
    "version": 3
   },
   "file_extension": ".py",
   "mimetype": "text/x-python",
   "name": "python",
   "nbconvert_exporter": "python",
   "pygments_lexer": "ipython3",
   "version": "3.11.2"
  }
 },
 "nbformat": 4,
 "nbformat_minor": 2
}
